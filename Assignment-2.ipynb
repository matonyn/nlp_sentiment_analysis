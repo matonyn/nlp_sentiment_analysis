{
 "cells": [
  {
   "cell_type": "code",
   "execution_count": 31,
   "id": "599b7e04",
   "metadata": {},
   "outputs": [
    {
     "name": "stdout",
     "output_type": "stream",
     "text": [
      "                                                text  label\n",
      "0                           Wow... Loved this place.      1\n",
      "1                                 Crust is not good.      0\n",
      "2          Not tasty and the texture was just nasty.      0\n",
      "3  Stopped by during the late May bank holiday of...      1\n",
      "4  The selection on the menu was great and so wer...      1\n"
     ]
    }
   ],
   "source": [
    "import pandas as pd\n",
    "import numpy as np\n",
    "\n",
    "from sklearn.model_selection import train_test_split\n",
    "\n",
    "data = pd.read_csv('yelp_labelled.txt', delimiter='\\t', header=None)\n",
    "data.columns = ['text', 'label']\n",
    "\n",
    "print(data.head())"
   ]
  },
  {
   "cell_type": "code",
   "execution_count": 89,
   "id": "f396f5b4",
   "metadata": {},
   "outputs": [
    {
     "name": "stdout",
     "output_type": "stream",
     "text": [
      "Preprocessed text sample: wow    loved this place \n",
      "Training samples: 800, Testing samples: 200\n"
     ]
    }
   ],
   "source": [
    "#External preproccessing\n",
    "import re\n",
    "\n",
    "def preprocess_text(text):\n",
    "    text = text.lower() # Lowercase\n",
    "    text = re.sub(r'[^\\w\\s]', ' ', text) # Remove punctuation\n",
    "    text = re.sub(r'\\(.*?\\)', ' ', text) # remove parentheses\n",
    "    return text\n",
    "\n",
    "data['preprocessed'] = data['text'].apply(preprocess_text)\n",
    "print(\"Preprocessed text sample:\", data['preprocessed'].iloc[0])\n",
    "\n",
    "X = data['preprocessed']\n",
    "y = data['label']\n",
    "X_train, X_test, y_train, y_test = train_test_split(X, y, test_size=0.2, random_state=42)\n",
    "\n",
    "print(f'Training samples: {len(X_train)}, Testing samples: {len(X_test)}')"
   ]
  },
  {
   "cell_type": "code",
   "execution_count": 90,
   "id": "0e6dee4e",
   "metadata": {},
   "outputs": [
    {
     "name": "stdout",
     "output_type": "stream",
     "text": [
      "Baseline F1 scores: 0.7956374342958608\n"
     ]
    }
   ],
   "source": [
    "# Baseline Pipeline\n",
    "from sklearn.pipeline import Pipeline\n",
    "from sklearn.model_selection import cross_val_score\n",
    "from sklearn.feature_extraction.text import CountVectorizer\n",
    "from sklearn.linear_model import LogisticRegression\n",
    "\n",
    "pipeline = Pipeline([\n",
    "    ('vectorizer', CountVectorizer(stop_words='english')),\n",
    "    ('classifier', LogisticRegression(max_iter=1000))\n",
    "])\n",
    "\n",
    "baseline_mean = cross_val_score(pipeline, X_train, y_train, cv=5, scoring='f1_weighted').mean()\n",
    "print(f'Baseline F1 scores: {baseline_mean}')"
   ]
  },
  {
   "cell_type": "code",
   "execution_count": 93,
   "id": "432138e9",
   "metadata": {},
   "outputs": [],
   "source": [
    "# Internal preproccessing\n",
    "from sklearn.base import BaseEstimator, TransformerMixin\n",
    "\n",
    "def negation_handling(text):\n",
    "    # Simple negation handling: append '_NEG' to words following a negation word\n",
    "    negation_words = {\"not\", \"no\", \"never\", \"n't\"}\n",
    "    tokens = text.split()\n",
    "    result = []\n",
    "    negate = False\n",
    "    for token in tokens:\n",
    "        if token in negation_words:\n",
    "            negate = True\n",
    "            result.append(token)\n",
    "        elif negate:\n",
    "            result.append(token + '_NEG')\n",
    "            negate = False\n",
    "        else:\n",
    "            result.append(token)\n",
    "    return ' '.join(result)\n",
    "\n",
    "class TextPreprocessor(BaseEstimator, TransformerMixin):\n",
    "\n",
    "    def fit(self, X, y=None):\n",
    "        return self\n",
    "    def transform(self, X):\n",
    "        result = []\n",
    "        for text in X:\n",
    "            text = text.lower() # Lowercase\n",
    "            text = re.sub(r'\\s+', ' ', text).strip() # standardize spaces\n",
    "            text = negation_handling(text) # Negation handling\n",
    "            result.append(text)\n",
    "        return result"
   ]
  },
  {
   "cell_type": "code",
   "execution_count": null,
   "id": "ae6a5c74",
   "metadata": {},
   "outputs": [
    {
     "name": "stdout",
     "output_type": "stream",
     "text": [
      "Fitting 5 folds for each of 648 candidates, totalling 3240 fits\n",
      "Best Logistic Regression F1 Score: 0.8261105761263551\n",
      "Best Logistic Regression Parameters: {'classifier__C': 10.0, 'vectorizer': TfidfVectorizer(), 'vectorizer__max_df': 0.8, 'vectorizer__min_df': 1, 'vectorizer__ngram_range': (1, 1), 'vectorizer__stop_words': None, 'vectorizer__token_pattern': '(?u)\\\\b\\\\w\\\\w+\\\\b'}\n",
      "Fitting 5 folds for each of 648 candidates, totalling 3240 fits\n",
      "Best NB F1 Score: 0.8136371677789989\n",
      "Best NB Parameters: {'classifier__alpha': 1.0, 'vectorizer': TfidfVectorizer(), 'vectorizer__max_df': 0.8, 'vectorizer__min_df': 1, 'vectorizer__ngram_range': (1, 1), 'vectorizer__stop_words': None, 'vectorizer__token_pattern': '(?u)\\\\b\\\\w\\\\w+\\\\b'}\n",
      "Fitting 5 folds for each of 1296 candidates, totalling 6480 fits\n",
      "Best SVM F1 Score: 0.8273826988413993\n",
      "Best SVM Parameters: {'classifier__C': 10.0, 'classifier__kernel': 'rbf', 'vectorizer': TfidfVectorizer(), 'vectorizer__max_df': 0.8, 'vectorizer__min_df': 1, 'vectorizer__ngram_range': (1, 1), 'vectorizer__stop_words': None, 'vectorizer__token_pattern': '(?u)\\\\b\\\\w\\\\w+\\\\b'}\n"
     ]
    }
   ],
   "source": [
    "# define pipeline with internal preprocessing   \n",
    "from sklearn.naive_bayes import MultinomialNB\n",
    "from sklearn.svm import SVC\n",
    "from sklearn.feature_extraction.text import TfidfVectorizer\n",
    "from sklearn.model_selection import GridSearchCV\n",
    "\n",
    "\n",
    "\n",
    "models = {\n",
    "    'Logistic Regression': LogisticRegression(max_iter=1000),\n",
    "    'NB': MultinomialNB(),\n",
    "    'SVM': SVC()\n",
    "}\n",
    "\n",
    "param_grids = {\n",
    "    'Logistic Regression': [\n",
    "        # Logistic Regression with CountVectorizer and TfidfVectorizer\n",
    "        {\n",
    "                'vectorizer': [CountVectorizer()],\n",
    "                'vectorizer__ngram_range': [(1,1), (1,2), (1,3)],\n",
    "                'vectorizer__token_pattern': [r'(?u)\\b\\w\\w+\\b', r'(?u)\\b\\w+\\b', r'\\S+'],\n",
    "                'vectorizer__max_df': [0.8, 0.9, 1.0],\n",
    "                'vectorizer__min_df': [1, 2],\n",
    "                'vectorizer__stop_words': [None, 'english'],\n",
    "                'classifier__C': [0.1, 1.0, 10.0]\n",
    "        },\n",
    "        {\n",
    "                'vectorizer': [TfidfVectorizer()],\n",
    "                'vectorizer__ngram_range': [(1,1), (1,2), (1,3)],\n",
    "                'vectorizer__token_pattern': [r'(?u)\\b\\w\\w+\\b', r'(?u)\\b\\w+\\b', r'\\S+'],\n",
    "                'vectorizer__max_df': [0.8, 0.9, 1.0],\n",
    "                'vectorizer__min_df': [1, 2],\n",
    "                'vectorizer__stop_words': [None, 'english'],\n",
    "                'classifier__C': [0.1, 1.0, 10.0]\n",
    "        }\n",
    "    ],\n",
    "    'NB': [\n",
    "        # Naive Bayes with CountVectorizer and TfidfVectorizer\n",
    "        {\n",
    "                'vectorizer': [CountVectorizer()],\n",
    "                'vectorizer__ngram_range': [(1,1), (1,2), (1,3)],\n",
    "                'vectorizer__token_pattern': [r'(?u)\\b\\w\\w+\\b', r'(?u)\\b\\w+\\b', r'\\S+'],\n",
    "                'vectorizer__max_df': [0.8, 0.9, 1.0],\n",
    "                'vectorizer__min_df': [1, 2],\n",
    "                'vectorizer__stop_words': [None, 'english'],\n",
    "                'classifier__alpha': [0.1, 1.0, 10.0]\n",
    "        },\n",
    "        {\n",
    "                'vectorizer': [TfidfVectorizer()],\n",
    "                'vectorizer__ngram_range': [(1,1), (1,2), (1,3)],\n",
    "                'vectorizer__token_pattern': [r'(?u)\\b\\w\\w+\\b', r'(?u)\\b\\w+\\b', r'\\S+'],\n",
    "                'vectorizer__max_df': [0.8, 0.9, 1.0],\n",
    "                'vectorizer__min_df': [1, 2],\n",
    "                'vectorizer__stop_words': [None, 'english'],\n",
    "                'classifier__alpha': [0.1, 1.0, 10.0]\n",
    "        }   \n",
    "    ],\n",
    "    'SVM': [\n",
    "        {\n",
    "        # SVM with CountVectorizer\n",
    "        'vectorizer': [CountVectorizer()],\n",
    "        'vectorizer__ngram_range': [(1,1), (1,2), (1,3)],\n",
    "        'vectorizer__token_pattern': [r'(?u)\\b\\w\\w+\\b', r'(?u)\\b\\w+\\b', r'\\S+'],\n",
    "        'vectorizer__max_df': [0.8, 0.9, 1.0],\n",
    "        'vectorizer__min_df': [1, 2],\n",
    "        'vectorizer__stop_words': [None, 'english'],\n",
    "        'classifier__C': [0.1, 1.0, 10.0],\n",
    "        'classifier__kernel': ['linear', 'rbf']\n",
    "    },\n",
    "    {\n",
    "        # SVM with TfidfVectorizer\n",
    "        'vectorizer': [TfidfVectorizer()],\n",
    "        'vectorizer__ngram_range': [(1,1), (1,2), (1,3)],\n",
    "                'vectorizer__token_pattern': [r'(?u)\\b\\w\\w+\\b', r'(?u)\\b\\w+\\b', r'\\S+'],\n",
    "        'vectorizer__max_df': [0.8, 0.9, 1.0],\n",
    "        'vectorizer__min_df': [1, 2],\n",
    "        'vectorizer__stop_words': [None, 'english'],\n",
    "        'classifier__C': [0.1, 1.0, 10.0], \n",
    "        'classifier__kernel': ['linear', 'rbf']\n",
    "    }\n",
    "    ]\n",
    "}\n",
    "\n",
    "best_models = {}\n",
    "\n",
    "for model_name, model in models.items():\n",
    "    pipeline = Pipeline([\n",
    "        ('preprocessor', TextPreprocessor()), # internal preprocessing\n",
    "        ('vectorizer', CountVectorizer(stop_words='english')), # will be replaced in GridSearch\n",
    "        ('classifier', model)\n",
    "    ])\n",
    "\n",
    "    grid_search = GridSearchCV(\n",
    "            pipeline, \n",
    "            param_grids[model_name], \n",
    "            cv=5, \n",
    "            scoring='f1_weighted',\n",
    "            n_jobs=-1,\n",
    "            verbose=1\n",
    "        )\n",
    "    \n",
    "    grid_search.fit(X_train, y_train)\n",
    "    best_models[model_name] = {\n",
    "            'model': grid_search.best_estimator_,\n",
    "            'score': grid_search.best_score_,\n",
    "            'params': grid_search.best_params_\n",
    "        }\n",
    "    \n",
    "    print(f'Best {model_name} F1 Score: {grid_search.best_score_}')\n",
    "    print(f'Best {model_name} Parameters: {grid_search.best_params_}')  \n",
    "\n"
   ]
  },
  {
   "cell_type": "code",
   "execution_count": 95,
   "id": "6b4784a1",
   "metadata": {},
   "outputs": [
    {
     "name": "stdout",
     "output_type": "stream",
     "text": [
      "\n",
      "Best Model Selection Based on Cross-Validation F1 Scores:\n",
      "Selected Model: SVM with F1 Score: 0.8273826988413993\n",
      "Improvement over baseline: 0.032\n",
      "\n",
      "Detailed Evaluation of SVM:\n",
      "Test Accuracy: 0.830\n",
      "Test F1 Score: 0.830\n",
      "Classification Report for SVM:\n",
      "\n",
      "              precision    recall  f1-score   support\n",
      "\n",
      "           0       0.80      0.86      0.83        96\n",
      "           1       0.86      0.80      0.83       104\n",
      "\n",
      "    accuracy                           0.83       200\n",
      "   macro avg       0.83      0.83      0.83       200\n",
      "weighted avg       0.83      0.83      0.83       200\n",
      "\n"
     ]
    }
   ],
   "source": [
    "#Select Final model\n",
    "from sklearn.model_selection import cross_val_predict\n",
    "from sklearn.metrics import classification_report, accuracy_score, f1_score\n",
    "\n",
    "print(\"\\nBest Model Selection Based on Cross-Validation F1 Scores:\")\n",
    "\n",
    "final_model = max(best_models.items(), key=lambda x: x[1]['score'])\n",
    "print(f'Selected Model: {final_model[0]} with F1 Score: {final_model[1][\"score\"]}')\n",
    "final_model_instance = final_model[1]['model']\n",
    "\n",
    "print(f\"Improvement over baseline: {best_models[final_model[0]]['score'] - baseline_mean:.3f}\")\n",
    "\n",
    "print(f\"\\nDetailed Evaluation of {final_model[0]}:\")\n",
    "y_pred = final_model_instance.predict(X_test)\n",
    "\n",
    "test_accuracy = accuracy_score(y_test, y_pred)\n",
    "test_f1 = f1_score(y_test, y_pred, average='weighted')\n",
    "print(f\"Test Accuracy: {test_accuracy:.3f}\")\n",
    "print(f\"Test F1 Score: {test_f1:.3f}\")\n",
    "\n",
    "print(f\"Classification Report for {final_model[0]}:\\n\")\n",
    "print(classification_report(y_test, y_pred))"
   ]
  },
  {
   "cell_type": "code",
   "execution_count": 96,
   "id": "d92189c4",
   "metadata": {},
   "outputs": [
    {
     "data": {
      "image/png": "[encoded data removed]",
      "text/plain": [
       "<Figure size 800x600 with 2 Axes>"
      ]
     },
     "metadata": {},
     "output_type": "display_data"
    }
   ],
   "source": [
    "#visualization 1\n",
    "import matplotlib.pyplot as plt\n",
    "import seaborn as sns\n",
    "from sklearn.metrics import confusion_matrix\n",
    "\n",
    "plt.figure(figsize=(8, 6))\n",
    "cm = confusion_matrix(y_test, y_pred)\n",
    "sns.heatmap(cm, annot=True, fmt='d', cmap='Blues', \n",
    "            xticklabels=['Negative', 'Positive'],\n",
    "            yticklabels=['Negative', 'Positive'])\n",
    "plt.title(f'Confusion Matrix - {final_model[0].title()}')\n",
    "plt.xlabel('Predicted')\n",
    "plt.ylabel('Actual')\n",
    "plt.tight_layout()\n",
    "plt.savefig('confusion_matrix.png', dpi=300, bbox_inches='tight')\n",
    "plt.show()"
   ]
  },
  {
   "cell_type": "code",
   "execution_count": null,
   "id": "36318de1",
   "metadata": {},
   "outputs": [
    {
     "data": {
      "image/png": "[encoded data removed]",
      "text/plain": [
       "<Figure size 600x500 with 1 Axes>"
      ]
     },
     "metadata": {},
     "output_type": "display_data"
    }
   ],
   "source": [
    "#visualization 2\n",
    "from sklearn.metrics import roc_curve, auc\n",
    "\n",
    "y_scores = final_model_instance.decision_function(X_test)\n",
    "fpr, tpr, thresholds = roc_curve(y_test, y_scores)\n",
    "roc_auc = auc(fpr, tpr)\n",
    "\n",
    "plt.figure(figsize=(6,5))\n",
    "plt.plot(fpr, tpr, label=f\"SVM (AUC = {roc_auc:.2f})\")\n",
    "plt.plot([0,1],[0,1], 'k--')\n",
    "plt.xlabel(\"False Positive Rate\")\n",
    "plt.ylabel(\"True Positive Rate\")\n",
    "plt.title(\"ROC Curve - SVM\")\n",
    "plt.legend(loc=\"lower right\")\n",
    "plt.show()"
   ]
  },
  {
   "cell_type": "code",
   "execution_count": 105,
   "id": "92f4b3ea",
   "metadata": {},
   "outputs": [
    {
     "name": "stdout",
     "output_type": "stream",
     "text": [
      "\n",
      "Creating sample CSV file...\n",
      "Sample CSV saved as 'preprocessing_examples.csv'\n"
     ]
    }
   ],
   "source": [
    "print(\"\\nCreating sample CSV file...\")\n",
    "\n",
    "# select 5 pos and neg reviews from dataset\n",
    "positive_view = data[data['label'] == 1].sample(5, random_state=42)\n",
    "negative_view = data[data['label'] == 0].sample(5, random_state=42)\n",
    "sample_df = pd.concat([positive_view, negative_view]).reset_index(drop=True)\n",
    "\n",
    "# get original and outside processed text\n",
    "original_texts = sample_df['text'].values\n",
    "preprocessed_texts = sample_df['preprocessed'].values   \n",
    "\n",
    "final_texts = final_model_instance.named_steps['preprocessor'].transform(preprocessed_texts)\n",
    "\n",
    "# Create output CSV\n",
    "output_data = {\n",
    "    'original_review': original_texts,\n",
    "    'after_external_preprocessing': preprocessed_texts,\n",
    "    'after_pipeline_preprocessing': final_texts\n",
    "}\n",
    "\n",
    "output_df = pd.DataFrame(output_data)\n",
    "output_df.to_csv('preprocessing_examples.csv', index=False)\n",
    "print(\"Sample CSV saved as 'preprocessing_examples.csv'\")\n"
   ]
  }
 ],
 "metadata": {
  "kernelspec": {
   "display_name": "Python 3",
   "language": "python",
   "name": "python3"
  },
  "language_info": {
   "codemirror_mode": {
    "name": "ipython",
    "version": 3
   },
   "file_extension": ".py",
   "mimetype": "text/x-python",
   "name": "python",
   "nbconvert_exporter": "python",
   "pygments_lexer": "ipython3",
   "version": "3.11.4"
  }
 },
 "nbformat": 4,
 "nbformat_minor": 5
}
